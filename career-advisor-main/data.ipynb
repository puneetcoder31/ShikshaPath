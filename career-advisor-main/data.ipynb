{
 "cells": [
  {
   "cell_type": "code",
   "execution_count": null,
   "id": "ed26e0e9",
   "metadata": {},
   "outputs": [
    {
     "name": "stdout",
     "output_type": "stream",
     "text": [
      "--- Original Imbalanced Dataset Saved ---\n",
      "Dataset saved to 'dataset.csv' with shape: (40000, 13)\n",
      "\n",
      "Final class distribution:\n",
      "PrimaryStream\n",
      "Arts          13491\n",
      "Commerce      13261\n",
      "Vocational     6671\n",
      "Science        6577\n",
      "Name: count, dtype: int64\n"
     ]
    }
   ],
   "source": [
    "import pandas as pd\n",
    "import numpy as np\n",
    "\n",
    "# --- Configuration ---\n",
    "NUM_SAMPLES = 40000\n",
    "np.random.seed(42)\n",
    "\n",
    "# Define the personality types and target streams\n",
    "RIASEC_TYPES = ['R', 'I', 'A', 'S', 'E', 'C']\n",
    "STREAMS = ['Science', 'Commerce', 'Arts', 'Vocational']\n",
    "\n",
    "# Define the logical mapping from RIASEC type to the most likely stream\n",
    "TYPE_TO_STREAM_MAP = {\n",
    "    'R': 'Vocational',\n",
    "    'I': 'Science',\n",
    "    'A': 'Arts',\n",
    "    'S': 'Arts',\n",
    "    'E': 'Commerce',\n",
    "    'C': 'Commerce'\n",
    "}\n",
    "\n",
    "# --- Data Generation ---\n",
    "data = []\n",
    "for _ in range(NUM_SAMPLES):\n",
    "    primary_type = np.random.choice(RIASEC_TYPES)\n",
    "    target_stream = TYPE_TO_STREAM_MAP[primary_type]\n",
    "    if np.random.rand() < 0.15: \n",
    "        if primary_type == 'I': target_stream = 'Vocational'\n",
    "        if primary_type == 'R': target_stream = 'Science'\n",
    "    \n",
    "    scores = []\n",
    "    for i in range(len(RIASEC_TYPES)):\n",
    "        if RIASEC_TYPES[i] == primary_type:\n",
    "            score1, score2 = np.random.randint(3, 6), np.random.randint(3, 6)\n",
    "        else:\n",
    "            score1, score2 = np.random.randint(1, 4), np.random.randint(1, 4)\n",
    "        scores.extend([score1, score2])\n",
    "    \n",
    "    row = {\n",
    "        'Q1_Realistic': scores[0], 'Q2_Realistic': scores[1],\n",
    "        'Q3_Investigative': scores[2], 'Q4_Investigative': scores[3],\n",
    "        'Q5_Artistic': scores[4], 'Q6_Artistic': scores[5],\n",
    "        'Q7_Social': scores[6], 'Q8_Social': scores[7],\n",
    "        'Q9_Enterprising': scores[8], 'Q10_Enterprising': scores[9],\n",
    "        'Q11_Conventional': scores[10], 'Q12_Conventional': scores[11],\n",
    "        'PrimaryStream': target_stream\n",
    "    }\n",
    "    data.append(row)\n",
    "\n",
    "# --- Save the Final, Imbalanced Dataset ---\n",
    "df = pd.DataFrame(data)\n",
    "output_filename = 'dataset.csv'\n",
    "df.to_csv(output_filename, index=False)\n",
    "\n",
    "print(f\"--- Original Imbalanced Dataset Saved ---\")\n",
    "print(f\"Dataset saved to '{output_filename}' with shape: {df.shape}\")\n",
    "print(\"\\nFinal class distribution:\")\n",
    "print(df['PrimaryStream'].value_counts())"
   ]
  },
  {
   "cell_type": "code",
   "execution_count": null,
   "id": "5d3145ab",
   "metadata": {},
   "outputs": [],
   "source": []
  }
 ],
 "metadata": {
  "kernelspec": {
   "display_name": "Python 3",
   "language": "python",
   "name": "python3"
  },
  "language_info": {
   "codemirror_mode": {
    "name": "ipython",
    "version": 3
   },
   "file_extension": ".py",
   "mimetype": "text/x-python",
   "name": "python",
   "nbconvert_exporter": "python",
   "pygments_lexer": "ipython3",
   "version": "3.12.1"
  }
 },
 "nbformat": 4,
 "nbformat_minor": 5
}
